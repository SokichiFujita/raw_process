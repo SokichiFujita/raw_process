{
 "cells": [
  {
   "cell_type": "code",
   "execution_count": null,
   "metadata": {},
   "outputs": [],
   "source": [
    "%matplotlib inline"
   ]
  },
  {
   "cell_type": "code",
   "execution_count": null,
   "metadata": {},
   "outputs": [],
   "source": [
    "# Install necessary modules.\n",
    "# 必要なモジュールのインストール\n",
    "!pip install rawpy\n",
    "!pip install imageio"
   ]
  },
  {
   "cell_type": "code",
   "execution_count": null,
   "metadata": {},
   "outputs": [],
   "source": [
    "# Import modules for raw image read.\n",
    "# RAW読み込み用のモジュールのインポート\n",
    "import io, requests, rawpy"
   ]
  },
  {
   "cell_type": "code",
   "execution_count": null,
   "metadata": {},
   "outputs": [],
   "source": [
    "# To download a file from github\n",
    "# githubからファイルをダウンロード\n",
    "response = requests.get(\"https://github.com/moizumi99/raw_process/raw/master/sample.ARW\")\n",
    "raw = rawpy.imread(io.BytesIO(response.content))"
   ]
  },
  {
   "cell_type": "code",
   "execution_count": null,
   "metadata": {},
   "outputs": [],
   "source": [
    "# if you want to use a local file, uncomment the below line\n",
    "# ローカルのファイルを使う場合は以下の行をアンコメント\n",
    "# raw = rawpy.imread('sample.ARW')"
   ]
  },
  {
   "cell_type": "code",
   "execution_count": null,
   "metadata": {},
   "outputs": [],
   "source": [
    "# Check the RAW file using rawpy.\n",
    "# RAW画像をRAWPYの機能で確認。\n",
    "import matplotlib.pyplot as plt\n",
    "from matplotlib.pyplot import imshow\n",
    "img_preview = raw.postprocess(use_camera_wb=True)\n",
    "imshow(img_preview)\n",
    "plt.axis('off')\n",
    "plt.show()"
   ]
  },
  {
   "cell_type": "code",
   "execution_count": null,
   "metadata": {},
   "outputs": [],
   "source": [
    "# Check the image size of the raw data\n",
    "# RAW画像の画像サイズ確認。\n",
    "print(raw.sizes)"
   ]
  },
  {
   "cell_type": "code",
   "execution_count": null,
   "metadata": {},
   "outputs": [],
   "source": [
    "# Convert to numpy so you can manipulate the pixels.\n",
    "# 画像をnumpy形式に変更。これで操作が容易になる。\n",
    "import numpy as np\n",
    "h, w = raw.sizes.raw_height, raw.sizes.raw_width\n",
    "raw_image = raw.raw_image.copy()\n",
    "raw_array = np.array(raw_image).reshape((h, w)).astype('float')"
   ]
  },
  {
   "cell_type": "code",
   "execution_count": null,
   "metadata": {},
   "outputs": [],
   "source": [
    "# Let's see the Bayer pattern image as is.\n",
    "# Bayer画像をそのままグレイスケール画像として見てみる。\n",
    "outimg = raw_array.copy()\n",
    "outimg = outimg.reshape((h, w))\n",
    "outimg[outimg < 0] = 0\n",
    "outimg = outimg / outimg.max()\n",
    "imshow(outimg, cmap='gray')\n",
    "plt.axis('off')\n",
    "plt.show()"
   ]
  },
  {
   "cell_type": "code",
   "execution_count": null,
   "metadata": {},
   "outputs": [],
   "source": [
    "# Let's maginify the image to see the details.\n",
    "# RAW画像の拡大。\n",
    "plt.figure(figsize=(8, 8))\n",
    "imshow(outimg[1310:1370, 2620:2680], cmap='gray')\n",
    "plt.axis('off')\n",
    "plt.show()"
   ]
  },
  {
   "cell_type": "code",
   "execution_count": null,
   "metadata": {},
   "outputs": [],
   "source": [
    "# Save the raw image as a gray scale image.\n",
    "# RAW画像を画像ファイルとしてセーブしておく。\n",
    "import imageio\n",
    "raw_array_out = raw_array.copy()\n",
    "raw_array_out = raw_array_out / raw_array_out.max() * 255\n",
    "imageio.imwrite(\"raw_out.png\", raw_array_out.astype('uint8'))"
   ]
  },
  {
   "cell_type": "code",
   "execution_count": null,
   "metadata": {},
   "outputs": [],
   "source": [
    "# Black level correction values.\n",
    "# ブラックレベルの確認。\n",
    "blc = raw.black_level_per_channel\n",
    "print(blc)"
   ]
  },
  {
   "cell_type": "code",
   "execution_count": null,
   "metadata": {},
   "outputs": [],
   "source": [
    "# Check the Bayer pattern. 0 = Red, 1 = Green, 2 = Blue, 3 = Green.\n",
    "# ベイヤーパターンの確認。\n",
    "bayer_pattern = raw.raw_pattern\n",
    "print(bayer_pattern)"
   ]
  },
  {
   "cell_type": "code",
   "execution_count": null,
   "metadata": {},
   "outputs": [],
   "source": [
    "# Do black level correction.\n",
    "# ブラックレベル補正。\n",
    "print(\"Minimum and Maximum before black level correction: \", raw_array.min(), raw_array.max())\n",
    "blc_raw = raw_array.copy()\n",
    "for y in range(0, h, 2):\n",
    "    for x in range(0, w, 2):\n",
    "        blc_raw[y + 0, x + 0] -= blc[bayer_pattern[0, 0]]\n",
    "        blc_raw[y + 0, x + 1] -= blc[bayer_pattern[0, 1]]\n",
    "        blc_raw[y + 1, x + 0] -= blc[bayer_pattern[1, 0]]\n",
    "        blc_raw[y + 1, x + 1] -= blc[bayer_pattern[1, 1]]\n",
    "print(\"Minimum and Maximum after black level correction: \", blc_raw.min(), blc_raw.max())"
   ]
  },
  {
   "cell_type": "code",
   "execution_count": null,
   "metadata": {},
   "outputs": [],
   "source": [
    "# Show the image after black level correction.\n",
    "# ブラックレベル補正後の画像の確認。少し暗くなっている。\n",
    "outimg = blc_raw.copy()\n",
    "outimg = outimg.reshape((h, w))\n",
    "outimg[outimg < 0] = 0\n",
    "outimg = outimg / outimg.max()\n",
    "imshow(outimg, cmap='gray')\n",
    "plt.axis('off')\n",
    "plt.show()"
   ]
  },
  {
   "cell_type": "code",
   "execution_count": null,
   "metadata": {},
   "outputs": [],
   "source": [
    "# Simplified demosaicing.\n",
    "# 簡易デモザイク処理。\n",
    "dms_img = np.zeros((h//2, w//2, 3))\n",
    "for y in range(0, h, 2):\n",
    "    for x in range(0, w, 2):\n",
    "        colors = [0, 0, 0, 0]\n",
    "        colors[bayer_pattern[0, 0]] += blc_raw[y + 0, x + 0]\n",
    "        colors[bayer_pattern[0, 1]] += blc_raw[y + 0, x + 1]\n",
    "        colors[bayer_pattern[1, 0]] += blc_raw[y + 1, x + 0]\n",
    "        colors[bayer_pattern[1, 1]] += blc_raw[y + 1, x + 1]\n",
    "        dms_img[y // 2, x // 2, 0] = colors[0]\n",
    "        dms_img[y // 2, x // 2, 1] = (colors[1] + colors[3])/ 2\n",
    "        dms_img[y // 2, x // 2, 2] = colors[2]"
   ]
  },
  {
   "cell_type": "code",
   "execution_count": null,
   "metadata": {},
   "outputs": [],
   "source": [
    "# Show the image after demosaic.\n",
    "# デモザイク後の画像表示。\n",
    "outimg = dms_img.copy()\n",
    "outimg = outimg.reshape((h // 2, w //2, 3))\n",
    "outimg[outimg < 0] = 0\n",
    "outimg = outimg / outimg.max()\n",
    "imshow(outimg)\n",
    "plt.axis('off')\n",
    "plt.show()\n",
    "# Don't worry about the color just yet.\n",
    "# 色がおかしいのはこれから直していく。"
   ]
  },
  {
   "cell_type": "code",
   "execution_count": null,
   "metadata": {},
   "outputs": [],
   "source": [
    "# White balance gains from the camera.\n",
    "# ホワイトバランスの確認。\n",
    "wb = np.array(raw.camera_whitebalance)\n",
    "print(wb)"
   ]
  },
  {
   "cell_type": "code",
   "execution_count": null,
   "metadata": {},
   "outputs": [],
   "source": [
    "# Apply white balance correction.\n",
    "# ホワイトバランス補正。\n",
    "img_wb = dms_img.copy().flatten().reshape((-1, 3))\n",
    "for index, pixel in enumerate(img_wb):\n",
    "    pixel = pixel * wb[:3] /max(wb)\n",
    "    img_wb[index] = pixel"
   ]
  },
  {
   "cell_type": "code",
   "execution_count": null,
   "metadata": {},
   "outputs": [],
   "source": [
    "# Show the image after white balance correction.\n",
    "# ホワイトバランス補正後の画像。\n",
    "outimg = img_wb.copy().reshape((h // 2, w //2, 3))\n",
    "outimg[outimg < 0] = 0\n",
    "outimg = outimg / outimg.max()\n",
    "imshow(outimg)\n",
    "plt.axis('off')\n",
    "plt.show()"
   ]
  },
  {
   "cell_type": "code",
   "execution_count": null,
   "metadata": {},
   "outputs": [],
   "source": [
    "# The color_matrix from raw_py doesn't seem to be right.\n",
    "# raw_pyを使って得たカラーマトリクス値は正しくない。\n",
    "print(raw.color_matrix)"
   ]
  },
  {
   "cell_type": "code",
   "execution_count": null,
   "metadata": {},
   "outputs": [],
   "source": [
    "# Use the matrix from the exif information of the ARW file acquired by exiftool.\n",
    "# 元のARWファイルからexiftoolを使って得たマトリクスを使用。\n",
    "color_matrix = np.array([[1141, -205, 88], [-52, 1229, -154], [70, -225, 1179]]) / 1024"
   ]
  },
  {
   "cell_type": "code",
   "execution_count": null,
   "metadata": {},
   "outputs": [],
   "source": [
    "# Apply Color matrix to the image.\n",
    "# カラーマトリクス補正。\n",
    "img_ccm = np.zeros_like(img_wb)\n",
    "for index, pixel in enumerate(img_wb):\n",
    "    pixel = np.dot(color_matrix, pixel)\n",
    "    img_ccm[index] = pixel"
   ]
  },
  {
   "cell_type": "code",
   "execution_count": null,
   "metadata": {},
   "outputs": [],
   "source": [
    "# Show the image after color matrix correction.\n",
    "# カラーマトリクス補正後の画像。\n",
    "outimg = img_ccm.copy().reshape((h // 2, w //2, 3))\n",
    "outimg[outimg < 0] = 0\n",
    "outimg = outimg / outimg.max()\n",
    "imshow(outimg)\n",
    "plt.axis('off')\n",
    "plt.show()"
   ]
  },
  {
   "cell_type": "code",
   "execution_count": null,
   "metadata": {},
   "outputs": [],
   "source": [
    "# Apply gamma correction.\n",
    "# ガンマ画像補正。\n",
    "\n",
    "import math\n",
    "\n",
    "img_gamma = img_ccm.copy().flatten()\n",
    "img_gamma[img_gamma < 0] = 0\n",
    "img_gamma = img_gamma/img_gamma.max()\n",
    "for index, val in enumerate(img_gamma):\n",
    "    img_gamma[index] = math.pow(val, 1/2.2)\n",
    "img_gamma = img_gamma.reshape((h//2, w//2, 3))"
   ]
  },
  {
   "cell_type": "code",
   "execution_count": null,
   "metadata": {},
   "outputs": [],
   "source": [
    "# Show the image after gamma correction.\n",
    "# ガンマ補正後の画像の確認。\n",
    "outimg = img_gamma.copy().reshape((h // 2, w //2, 3))\n",
    "outimg[outimg < 0] = 0\n",
    "outimg = outimg / outimg.max()\n",
    "imshow(outimg)\n",
    "plt.axis('off')\n",
    "plt.show()"
   ]
  },
  {
   "cell_type": "code",
   "execution_count": null,
   "metadata": {},
   "outputs": [],
   "source": [
    "# Save the image after gamma correction.\n",
    "# ガンマ補正後の画像の保存。\n",
    "outimg = img_gamma.copy().reshape((h // 2, w //2, 3))\n",
    "outimg[outimg < 0] = 0\n",
    "outimg = outimg * 255\n",
    "imshow(outimg.astype('uint8'))\n",
    "plt.axis('off')\n",
    "plt.show()\n",
    "\n",
    "imageio.imwrite(\"sample.png\", outimg.astype('uint8'))"
   ]
  },
  {
   "cell_type": "code",
   "execution_count": null,
   "metadata": {},
   "outputs": [],
   "source": [
    "# Now you've done the basic of RAW image processing!\n",
    "# これで基本的なRAW画像現像ができあがりました。お疲れ様！"
   ]
  }
 ],
 "metadata": {
  "kernelspec": {
   "display_name": "Python 3",
   "language": "python",
   "name": "python3"
  },
  "language_info": {
   "codemirror_mode": {
    "name": "ipython",
    "version": 3
   },
   "file_extension": ".py",
   "mimetype": "text/x-python",
   "name": "python",
   "nbconvert_exporter": "python",
   "pygments_lexer": "ipython3",
   "version": "3.6.6"
  }
 },
 "nbformat": 4,
 "nbformat_minor": 2
}
