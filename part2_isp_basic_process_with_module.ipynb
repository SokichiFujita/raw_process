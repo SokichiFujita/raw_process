{
 "cells": [
  {
   "cell_type": "code",
   "execution_count": null,
   "metadata": {},
   "outputs": [],
   "source": [
    "%matplotlib inline"
   ]
  },
  {
   "cell_type": "code",
   "execution_count": null,
   "metadata": {},
   "outputs": [],
   "source": [
    "# Install necessary modules.\n",
    "# 必要なモジュールのインストール\n",
    "!pip install rawpy\n",
    "!pip install imageio"
   ]
  },
  {
   "cell_type": "code",
   "execution_count": null,
   "metadata": {},
   "outputs": [],
   "source": [
    "# Module import setting. May not be needed on Colab.\n",
    "# モジュールのインポート設定。Colabでは必要ないかもしれない。\n",
    "import os\n",
    "import sys\n",
    "module_path = os.path.abspath(os.path.join('..'))\n",
    "if module_path not in sys.path:\n",
    "    sys.path.append(module_path)"
   ]
  },
  {
   "cell_type": "code",
   "execution_count": null,
   "metadata": {},
   "outputs": [],
   "source": [
    "!wget https://raw.githubusercontent.com/moizumi99/raw_process/master/raw_process.py"
   ]
  },
  {
   "cell_type": "code",
   "execution_count": null,
   "metadata": {},
   "outputs": [],
   "source": [
    "import raw_process"
   ]
  },
  {
   "cell_type": "code",
   "execution_count": null,
   "metadata": {},
   "outputs": [],
   "source": [
    "# Download a sample file\n",
    "# サンプルファイルのダウンロード\n",
    "!wget \"https://github.com/moizumi99/raw_process/raw/master/sample.ARW\""
   ]
  },
  {
   "cell_type": "code",
   "execution_count": null,
   "metadata": {},
   "outputs": [],
   "source": [
    "# RAW File reading with a module (raw_process.py)\n",
    "# モジュールを理容師たRAW画像ファイルの読み込み\n",
    "raw = raw_process.read(\"sample.ARW\")"
   ]
  },
  {
   "cell_type": "code",
   "execution_count": null,
   "metadata": {},
   "outputs": [],
   "source": [
    "# RAW processing\n",
    "# RAW　画像処理\n",
    "color_matrix = [1141, -205, 88, -52, 1229, -154, 70, -225, 1179]\n",
    "raw_array = raw_process.get_raw_array(raw)\n",
    "blc_raw = raw_process.black_level_correction(raw, raw_array)\n",
    "dms_img = raw_process.preview_demosaic(raw, blc_raw)\n",
    "img_wb = raw_process.white_balance(raw, dms_img)\n",
    "img_ccm = raw_process.color_correction_matrix(img_wb, color_matrix)\n",
    "rgb_image = raw_process.gamma_correction(img_ccm)"
   ]
  },
  {
   "cell_type": "code",
   "execution_count": null,
   "metadata": {},
   "outputs": [],
   "source": [
    "# Write the RGB to a PNG file.\n",
    "# PNG画像ファイルとして書き出し。\n",
    "raw_process.write(rgb_image, \"output2.png\")"
   ]
  },
  {
   "cell_type": "code",
   "execution_count": null,
   "metadata": {},
   "outputs": [],
   "source": [
    "# Show the image.\n",
    "# 画像を表示して確認\n",
    "import imageio\n",
    "from pylab import imshow, show\n",
    "from matplotlib import pyplot as plt\n",
    "imshow(imageio.imread('output2.png'))\n",
    "plt.axis('off')\n",
    "plt.show()"
   ]
  },
  {
   "cell_type": "code",
   "execution_count": null,
   "metadata": {},
   "outputs": [],
   "source": []
  }
 ],
 "metadata": {
  "kernelspec": {
   "display_name": "Python 3",
   "language": "python",
   "name": "python3"
  },
  "language_info": {
   "codemirror_mode": {
    "name": "ipython",
    "version": 3
   },
   "file_extension": ".py",
   "mimetype": "text/x-python",
   "name": "python",
   "nbconvert_exporter": "python",
   "pygments_lexer": "ipython3",
   "version": "3.6.6"
  }
 },
 "nbformat": 4,
 "nbformat_minor": 2
}
